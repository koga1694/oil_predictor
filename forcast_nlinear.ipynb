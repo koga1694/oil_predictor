{
 "cells": [
  {
   "cell_type": "code",
   "execution_count": 3,
   "metadata": {},
   "outputs": [],
   "source": [
    "import pandas as pd\n",
    "import numpy as np\n",
    "import matplotlib.pyplot as plt\n",
    "import seaborn as sns\n",
    "import torch\n",
    "from torch.utils.data import Dataset, DataLoader\n",
    "dataset = pd.read_csv('주유소_평균판매가격_제품별.csv', encoding='cp949')"
   ]
  },
  {
   "cell_type": "code",
   "execution_count": 2,
   "metadata": {},
   "outputs": [],
   "source": [
    "class LTSF_NLinear(torch.nn.Module):\n",
    "    def __init__(self, window_size, forcast_size, individual, feature_size):\n",
    "        super(LTSF_NLinear, self).__init__()\n",
    "        self.window_size = window_size\n",
    "        self.forcast_size = forcast_size\n",
    "        self.individual = individual\n",
    "        self.channels = feature_size\n",
    "        if self.individual:\n",
    "            self.Linear = torch.nn.ModuleList()\n",
    "            for i in range(self.channels):\n",
    "                self.Linear.append(torch.nn.Linear(self.window_size, self.forcast_size))\n",
    "        else:\n",
    "            self.Linear = torch.nn.Linear(self.window_size, self.forcast_size)\n",
    "\n",
    "    def forward(self, x):\n",
    "        seq_last = x[:,-1:,:].detach()\n",
    "        x = x - seq_last\n",
    "        if self.individual:\n",
    "            output = torch.zeros([x.size(0), self.forcast_size, x.size(2)],dtype=x.dtype).to(x.device)\n",
    "            for i in range(self.channels):\n",
    "                output[:,:,i] = self.Linear[i](x[:,:,i])\n",
    "            x = output\n",
    "        else:\n",
    "            x = self.Linear(x.permute(0,2,1)).permute(0,2,1)\n",
    "        x = x + seq_last\n",
    "        return x"
   ]
  },
  {
   "cell_type": "code",
   "execution_count": 73,
   "metadata": {},
   "outputs": [],
   "source": [
    "def standardization(train_df, test_df, not_col, target):\n",
    "    train_df_ = train_df.copy()\n",
    "    test_df_ = test_df.copy()\n",
    "    col = [col for col in list(train_df.columns) if col not in not_col]\n",
    "    mean_list = []\n",
    "    std_list = []\n",
    "    for x in col:\n",
    "        mean, std = train_df_.agg([\"mean\", \"std\"]).loc[:,x]\n",
    "        mean_list.append(mean)\n",
    "        std_list.append(std)\n",
    "        train_df_.loc[:, x] = (train_df_[x] - mean) / std\n",
    "        test_df_.loc[:, x] = (test_df_[x] - mean) / std\n",
    "    return train_df_, test_df_, mean_list[col.index(target)], std_list[col.index(target)]\n",
    "\n",
    "def time_slide_df(df, window_size, forcast_size, date, target):\n",
    "    df_ = df.copy()\n",
    "    data_list = []\n",
    "    dap_list = []\n",
    "    date_list = []\n",
    "    for idx in range(0, df_.shape[0]-window_size-forcast_size+1):\n",
    "        x = df_.loc[idx:idx+window_size-1, target].values.reshape(window_size, 1)\n",
    "        y = df_.loc[idx+window_size:idx+window_size+forcast_size-1, target].values\n",
    "        date_ = df_.loc[idx+window_size:idx+window_size+forcast_size-1, date].values\n",
    "        data_list.append(x)\n",
    "        dap_list.append(y)\n",
    "        date_list.append(date_)\n",
    "    return np.array(data_list, dtype='float32'), np.array(dap_list, dtype='float32'), np.array(date_list)\n",
    "\n",
    "class Data(Dataset):\n",
    "    def __init__(self, X, Y):\n",
    "        self.X = X\n",
    "        self.Y = Y\n",
    "\n",
    "    def __len__(self):\n",
    "        return len(self.Y)\n",
    "    \n",
    "    def __getitem__(self, idx):\n",
    "        return self.X[idx], self.Y[idx]"
   ]
  },
  {
   "cell_type": "code",
   "execution_count": 91,
   "metadata": {},
   "outputs": [],
   "source": [
    "def FE(dataset):\n",
    "    # 년, 월, 일\n",
    "    data = dataset.__deepcopy__()\n",
    "    data['year'] = data['구분'].str.split('년').str[0]\n",
    "    data['month'] = data['구분'].str.split('년').str[1].str.split('월').str[0]\n",
    "    data['day'] = data['구분'].str.split('년').str[1].str.split('월').str[1].str.split('일').str[0]\n",
    "    data['date'] = pd.to_datetime(data[['year', 'month', 'day']])\n",
    "    \n",
    "    data.drop('구분', axis=1, inplace=True)\n",
    "    \n",
    "    data['year'] = data['year'].astype('int')\n",
    "    data['month'] = data['month'].astype('int')\n",
    "    data['day'] = data['day'].astype('int')\n",
    "    \n",
    "    return data\n",
    "data = FE(dataset)\n",
    "data['target'] = data['자동차용경유']"
   ]
  },
  {
   "cell_type": "code",
   "execution_count": 92,
   "metadata": {},
   "outputs": [],
   "source": [
    "train = data[data['year'] != 2024]\n",
    "test = data[data['year'] == 2024]"
   ]
  },
  {
   "cell_type": "code",
   "execution_count": 93,
   "metadata": {},
   "outputs": [
    {
     "name": "stdout",
     "output_type": "stream",
     "text": [
      "자동차용경유\n",
      "['고급휘발유', '보통휘발유', '자동차용경유', '실내등유', 'year', 'month', 'day']\n"
     ]
    },
    {
     "name": "stderr",
     "output_type": "stream",
     "text": [
      "C:\\Users\\이음\\AppData\\Local\\Temp\\ipykernel_26948\\3319968104.py:13: FutureWarning: Setting an item of incompatible dtype is deprecated and will raise in a future error of pandas. Value '[-1.68263846 -1.68263846 -1.68263846 ...  1.62262651  1.62262651\n",
      "  1.62262651]' has dtype incompatible with int32, please explicitly cast to a compatible dtype first.\n",
      "  train_df_.loc[:, x] = (train_df_[x] - mean) / std\n",
      "C:\\Users\\이음\\AppData\\Local\\Temp\\ipykernel_26948\\3319968104.py:14: FutureWarning: Setting an item of incompatible dtype is deprecated and will raise in a future error of pandas. Value '[1.84297751 1.84297751 1.84297751 1.84297751 1.84297751 1.84297751\n",
      " 1.84297751 1.84297751 1.84297751 1.84297751 1.84297751 1.84297751\n",
      " 1.84297751 1.84297751 1.84297751 1.84297751 1.84297751 1.84297751\n",
      " 1.84297751 1.84297751 1.84297751 1.84297751 1.84297751 1.84297751\n",
      " 1.84297751 1.84297751 1.84297751 1.84297751 1.84297751 1.84297751\n",
      " 1.84297751 1.84297751 1.84297751 1.84297751 1.84297751 1.84297751\n",
      " 1.84297751 1.84297751 1.84297751 1.84297751 1.84297751 1.84297751\n",
      " 1.84297751 1.84297751 1.84297751 1.84297751 1.84297751 1.84297751\n",
      " 1.84297751 1.84297751 1.84297751 1.84297751 1.84297751 1.84297751\n",
      " 1.84297751 1.84297751 1.84297751 1.84297751 1.84297751 1.84297751\n",
      " 1.84297751 1.84297751 1.84297751 1.84297751 1.84297751 1.84297751\n",
      " 1.84297751 1.84297751 1.84297751 1.84297751 1.84297751 1.84297751\n",
      " 1.84297751 1.84297751 1.84297751 1.84297751 1.84297751 1.84297751\n",
      " 1.84297751 1.84297751 1.84297751 1.84297751 1.84297751 1.84297751\n",
      " 1.84297751 1.84297751 1.84297751 1.84297751 1.84297751 1.84297751\n",
      " 1.84297751 1.84297751 1.84297751 1.84297751 1.84297751 1.84297751\n",
      " 1.84297751 1.84297751 1.84297751 1.84297751 1.84297751 1.84297751\n",
      " 1.84297751 1.84297751 1.84297751 1.84297751 1.84297751 1.84297751\n",
      " 1.84297751 1.84297751 1.84297751 1.84297751 1.84297751 1.84297751\n",
      " 1.84297751 1.84297751 1.84297751 1.84297751 1.84297751 1.84297751\n",
      " 1.84297751 1.84297751 1.84297751 1.84297751 1.84297751 1.84297751\n",
      " 1.84297751 1.84297751 1.84297751 1.84297751 1.84297751 1.84297751\n",
      " 1.84297751 1.84297751 1.84297751 1.84297751 1.84297751 1.84297751\n",
      " 1.84297751 1.84297751 1.84297751 1.84297751 1.84297751 1.84297751\n",
      " 1.84297751 1.84297751 1.84297751 1.84297751 1.84297751 1.84297751\n",
      " 1.84297751 1.84297751 1.84297751 1.84297751 1.84297751 1.84297751\n",
      " 1.84297751 1.84297751 1.84297751 1.84297751 1.84297751 1.84297751\n",
      " 1.84297751 1.84297751 1.84297751 1.84297751 1.84297751 1.84297751\n",
      " 1.84297751 1.84297751 1.84297751 1.84297751 1.84297751 1.84297751\n",
      " 1.84297751 1.84297751 1.84297751 1.84297751 1.84297751 1.84297751\n",
      " 1.84297751 1.84297751 1.84297751 1.84297751 1.84297751 1.84297751\n",
      " 1.84297751 1.84297751 1.84297751 1.84297751 1.84297751 1.84297751\n",
      " 1.84297751 1.84297751 1.84297751 1.84297751 1.84297751 1.84297751\n",
      " 1.84297751 1.84297751 1.84297751 1.84297751 1.84297751 1.84297751\n",
      " 1.84297751 1.84297751 1.84297751 1.84297751 1.84297751 1.84297751\n",
      " 1.84297751 1.84297751 1.84297751 1.84297751 1.84297751 1.84297751\n",
      " 1.84297751 1.84297751 1.84297751 1.84297751 1.84297751 1.84297751\n",
      " 1.84297751 1.84297751 1.84297751 1.84297751 1.84297751 1.84297751\n",
      " 1.84297751 1.84297751 1.84297751]' has dtype incompatible with int32, please explicitly cast to a compatible dtype first.\n",
      "  test_df_.loc[:, x] = (test_df_[x] - mean) / std\n",
      "C:\\Users\\이음\\AppData\\Local\\Temp\\ipykernel_26948\\3319968104.py:13: FutureWarning: Setting an item of incompatible dtype is deprecated and will raise in a future error of pandas. Value '[-0.75852404 -0.75852404 -0.75852404 ...  1.5746768   1.5746768\n",
      "  1.5746768 ]' has dtype incompatible with int32, please explicitly cast to a compatible dtype first.\n",
      "  train_df_.loc[:, x] = (train_df_[x] - mean) / std\n",
      "C:\\Users\\이음\\AppData\\Local\\Temp\\ipykernel_26948\\3319968104.py:14: FutureWarning: Setting an item of incompatible dtype is deprecated and will raise in a future error of pandas. Value '[-1.63347435 -1.63347435 -1.63347435 -1.63347435 -1.63347435 -1.63347435\n",
      " -1.63347435 -1.63347435 -1.63347435 -1.63347435 -1.63347435 -1.63347435\n",
      " -1.63347435 -1.63347435 -1.63347435 -1.63347435 -1.63347435 -1.63347435\n",
      " -1.63347435 -1.63347435 -1.63347435 -1.63347435 -1.63347435 -1.63347435\n",
      " -1.63347435 -1.63347435 -1.63347435 -1.63347435 -1.63347435 -1.63347435\n",
      " -1.63347435 -1.34182425 -1.34182425 -1.34182425 -1.34182425 -1.34182425\n",
      " -1.34182425 -1.34182425 -1.34182425 -1.34182425 -1.34182425 -1.34182425\n",
      " -1.34182425 -1.34182425 -1.34182425 -1.34182425 -1.34182425 -1.34182425\n",
      " -1.34182425 -1.34182425 -1.34182425 -1.34182425 -1.34182425 -1.34182425\n",
      " -1.34182425 -1.34182425 -1.34182425 -1.34182425 -1.34182425 -1.34182425\n",
      " -1.05017414 -1.05017414 -1.05017414 -1.05017414 -1.05017414 -1.05017414\n",
      " -1.05017414 -1.05017414 -1.05017414 -1.05017414 -1.05017414 -1.05017414\n",
      " -1.05017414 -1.05017414 -1.05017414 -1.05017414 -1.05017414 -1.05017414\n",
      " -1.05017414 -1.05017414 -1.05017414 -1.05017414 -1.05017414 -1.05017414\n",
      " -1.05017414 -1.05017414 -1.05017414 -1.05017414 -1.05017414 -1.05017414\n",
      " -1.05017414 -0.75852404 -0.75852404 -0.75852404 -0.75852404 -0.75852404\n",
      " -0.75852404 -0.75852404 -0.75852404 -0.75852404 -0.75852404 -0.75852404\n",
      " -0.75852404 -0.75852404 -0.75852404 -0.75852404 -0.75852404 -0.75852404\n",
      " -0.75852404 -0.75852404 -0.75852404 -0.75852404 -0.75852404 -0.75852404\n",
      " -0.75852404 -0.75852404 -0.75852404 -0.75852404 -0.75852404 -0.75852404\n",
      " -0.75852404 -0.46687394 -0.46687394 -0.46687394 -0.46687394 -0.46687394\n",
      " -0.46687394 -0.46687394 -0.46687394 -0.46687394 -0.46687394 -0.46687394\n",
      " -0.46687394 -0.46687394 -0.46687394 -0.46687394 -0.46687394 -0.46687394\n",
      " -0.46687394 -0.46687394 -0.46687394 -0.46687394 -0.46687394 -0.46687394\n",
      " -0.46687394 -0.46687394 -0.46687394 -0.46687394 -0.46687394 -0.46687394\n",
      " -0.46687394 -0.46687394 -0.17522383 -0.17522383 -0.17522383 -0.17522383\n",
      " -0.17522383 -0.17522383 -0.17522383 -0.17522383 -0.17522383 -0.17522383\n",
      " -0.17522383 -0.17522383 -0.17522383 -0.17522383 -0.17522383 -0.17522383\n",
      " -0.17522383 -0.17522383 -0.17522383 -0.17522383 -0.17522383 -0.17522383\n",
      " -0.17522383 -0.17522383 -0.17522383 -0.17522383 -0.17522383 -0.17522383\n",
      " -0.17522383 -0.17522383  0.11642627  0.11642627  0.11642627  0.11642627\n",
      "  0.11642627  0.11642627  0.11642627  0.11642627  0.11642627  0.11642627\n",
      "  0.11642627  0.11642627  0.11642627  0.11642627  0.11642627  0.11642627\n",
      "  0.11642627  0.11642627  0.11642627  0.11642627  0.11642627  0.11642627\n",
      "  0.11642627  0.11642627  0.11642627  0.11642627  0.11642627  0.11642627\n",
      "  0.11642627  0.11642627  0.11642627  0.40807638  0.40807638  0.40807638\n",
      "  0.40807638  0.40807638  0.40807638  0.40807638  0.40807638  0.40807638\n",
      "  0.40807638  0.40807638  0.40807638  0.40807638  0.40807638  0.40807638\n",
      "  0.40807638  0.40807638  0.40807638]' has dtype incompatible with int32, please explicitly cast to a compatible dtype first.\n",
      "  test_df_.loc[:, x] = (test_df_[x] - mean) / std\n",
      "C:\\Users\\이음\\AppData\\Local\\Temp\\ipykernel_26948\\3319968104.py:13: FutureWarning: Setting an item of incompatible dtype is deprecated and will raise in a future error of pandas. Value '[-0.08527885  0.02835368  0.14198621 ...  1.5055766   1.61920913\n",
      "  1.73284166]' has dtype incompatible with int32, please explicitly cast to a compatible dtype first.\n",
      "  train_df_.loc[:, x] = (train_df_[x] - mean) / std\n",
      "C:\\Users\\이음\\AppData\\Local\\Temp\\ipykernel_26948\\3319968104.py:14: FutureWarning: Setting an item of incompatible dtype is deprecated and will raise in a future error of pandas. Value '[-1.6761343  -1.56250177 -1.44886923 -1.3352367  -1.22160417 -1.10797164\n",
      " -0.99433911 -0.88070657 -0.76707404 -0.65344151 -0.53980898 -0.42617645\n",
      " -0.31254391 -0.19891138 -0.08527885  0.02835368  0.14198621  0.25561875\n",
      "  0.36925128  0.48288381  0.59651634  0.71014888  0.82378141  0.93741394\n",
      "  1.05104647  1.164679    1.27831154  1.39194407  1.5055766   1.61920913\n",
      "  1.73284166 -1.6761343  -1.56250177 -1.44886923 -1.3352367  -1.22160417\n",
      " -1.10797164 -0.99433911 -0.88070657 -0.76707404 -0.65344151 -0.53980898\n",
      " -0.42617645 -0.31254391 -0.19891138 -0.08527885  0.02835368  0.14198621\n",
      "  0.25561875  0.36925128  0.48288381  0.59651634  0.71014888  0.82378141\n",
      "  0.93741394  1.05104647  1.164679    1.27831154  1.39194407  1.5055766\n",
      " -1.6761343  -1.56250177 -1.44886923 -1.3352367  -1.22160417 -1.10797164\n",
      " -0.99433911 -0.88070657 -0.76707404 -0.65344151 -0.53980898 -0.42617645\n",
      " -0.31254391 -0.19891138 -0.08527885  0.02835368  0.14198621  0.25561875\n",
      "  0.36925128  0.48288381  0.59651634  0.71014888  0.82378141  0.93741394\n",
      "  1.05104647  1.164679    1.27831154  1.39194407  1.5055766   1.61920913\n",
      "  1.73284166 -1.6761343  -1.56250177 -1.44886923 -1.3352367  -1.22160417\n",
      " -1.10797164 -0.99433911 -0.88070657 -0.76707404 -0.65344151 -0.53980898\n",
      " -0.42617645 -0.31254391 -0.19891138 -0.08527885  0.02835368  0.14198621\n",
      "  0.25561875  0.36925128  0.48288381  0.59651634  0.71014888  0.82378141\n",
      "  0.93741394  1.05104647  1.164679    1.27831154  1.39194407  1.5055766\n",
      "  1.61920913 -1.6761343  -1.56250177 -1.44886923 -1.3352367  -1.22160417\n",
      " -1.10797164 -0.99433911 -0.88070657 -0.76707404 -0.65344151 -0.53980898\n",
      " -0.42617645 -0.31254391 -0.19891138 -0.08527885  0.02835368  0.14198621\n",
      "  0.25561875  0.36925128  0.48288381  0.59651634  0.71014888  0.82378141\n",
      "  0.93741394  1.05104647  1.164679    1.27831154  1.39194407  1.5055766\n",
      "  1.61920913  1.73284166 -1.6761343  -1.56250177 -1.44886923 -1.3352367\n",
      " -1.22160417 -1.10797164 -0.99433911 -0.88070657 -0.76707404 -0.65344151\n",
      " -0.53980898 -0.42617645 -0.31254391 -0.19891138 -0.08527885  0.02835368\n",
      "  0.14198621  0.25561875  0.36925128  0.48288381  0.59651634  0.71014888\n",
      "  0.82378141  0.93741394  1.05104647  1.164679    1.27831154  1.39194407\n",
      "  1.5055766   1.61920913 -1.6761343  -1.56250177 -1.44886923 -1.3352367\n",
      " -1.22160417 -1.10797164 -0.99433911 -0.88070657 -0.76707404 -0.65344151\n",
      " -0.53980898 -0.42617645 -0.31254391 -0.19891138 -0.08527885  0.02835368\n",
      "  0.14198621  0.25561875  0.36925128  0.48288381  0.59651634  0.71014888\n",
      "  0.82378141  0.93741394  1.05104647  1.164679    1.27831154  1.39194407\n",
      "  1.5055766   1.61920913  1.73284166 -1.6761343  -1.56250177 -1.44886923\n",
      " -1.3352367  -1.22160417 -1.10797164 -0.99433911 -0.88070657 -0.76707404\n",
      " -0.65344151 -0.53980898 -0.42617645 -0.31254391 -0.19891138 -0.08527885\n",
      "  0.02835368  0.14198621  0.25561875]' has dtype incompatible with int32, please explicitly cast to a compatible dtype first.\n",
      "  test_df_.loc[:, x] = (test_df_[x] - mean) / std\n"
     ]
    }
   ],
   "source": [
    "window_size = 30\n",
    "forcast_size= 1\n",
    "batch_size = 32\n",
    "targets = '자동차용경유'\n",
    "# date = ['date']\n",
    "nc = ['date', 'target']\n",
    "\n",
    "train_df_fe, test_df_fe, mean_, std_ = standardization(train, test, nc, targets)\n",
    "train_x, train_y, train_date = time_slide_df(train_df_fe, window_size, forcast_size, 'date', 'target')\n",
    "test_x, test_y, test_date = time_slide_df(test_df_fe.reset_index(), window_size, forcast_size, 'date', 'target')\n",
    "\n",
    "train_ds = Data(train_x[:-365], train_y[:-365])\n",
    "valid_ds = Data(train_x[-365:], train_y[-365:])\n",
    "test_ds = Data(test_x, test_y)\n",
    "\n",
    "train_dl = DataLoader(train_ds, batch_size = batch_size, shuffle=True,)\n",
    "valid_dl = DataLoader(valid_ds, batch_size = train_x[-365:].shape[0], shuffle=False)\n",
    "test_dl  = DataLoader(test_ds,  batch_size = test_x.shape[0], shuffle=False)"
   ]
  },
  {
   "cell_type": "code",
   "execution_count": 95,
   "metadata": {},
   "outputs": [
    {
     "data": {
      "text/plain": [
       "array([[1731.62],\n",
       "       [1745.05],\n",
       "       [1753.52],\n",
       "       ...,\n",
       "       [1497.25],\n",
       "       [1495.66],\n",
       "       [1495.21]], dtype=float32)"
      ]
     },
     "execution_count": 95,
     "metadata": {},
     "output_type": "execute_result"
    }
   ],
   "source": [
    "train_y"
   ]
  },
  {
   "cell_type": "code",
   "execution_count": 96,
   "metadata": {},
   "outputs": [],
   "source": [
    "class moving_avg(torch.nn.Module):\n",
    "    def __init__(self, kernel_size, stride):\n",
    "        super(moving_avg, self).__init__()\n",
    "        self.kernel_size = kernel_size\n",
    "        self.avg = torch.nn.AvgPool1d(kernel_size=kernel_size, stride=stride, padding=0)\n",
    "\n",
    "    def forward(self, x):\n",
    "        front = x[:, 0:1, :].repeat(1, (self.kernel_size - 1) // 2, 1)\n",
    "        end = x[:, -1:, :].repeat(1, (self.kernel_size - 1) // 2, 1)\n",
    "        x = torch.cat([front, x, end], dim=1)\n",
    "        x = self.avg(x.permute(0, 2, 1))\n",
    "        x = x.permute(0, 2, 1)\n",
    "        return x\n",
    "\n",
    "class series_decomp(torch.nn.Module):\n",
    "    def __init__(self, kernel_size):\n",
    "        super(series_decomp, self).__init__()\n",
    "        self.moving_avg = moving_avg(kernel_size, stride=1)\n",
    "\n",
    "    def forward(self, x):\n",
    "        moving_mean = self.moving_avg(x)\n",
    "        residual = x - moving_mean\n",
    "        return moving_mean, residual \n",
    "        \n",
    "class LTSF_DLinear(torch.nn.Module):\n",
    "    def __init__(self, window_size, forcast_size, kernel_size, individual, feature_size):\n",
    "        super(LTSF_DLinear, self).__init__()\n",
    "        self.window_size = window_size\n",
    "        self.forcast_size = forcast_size\n",
    "        self.decompsition = series_decomp(kernel_size)\n",
    "        self.individual = individual\n",
    "        self.channels = feature_size\n",
    "        if self.individual:\n",
    "            self.Linear_Seasonal = torch.nn.ModuleList()\n",
    "            self.Linear_Trend = torch.nn.ModuleList()\n",
    "            for i in range(self.channels):\n",
    "                self.Linear_Trend.append(torch.nn.Linear(self.window_size, self.forcast_size))\n",
    "                self.Linear_Trend[i].weight = torch.nn.Parameter((1/self.window_size)*torch.ones([self.forcast_size, self.window_size]))\n",
    "                self.Linear_Seasonal.append(torch.nn.Linear(self.window_size, self.forcast_size))\n",
    "                self.Linear_Seasonal[i].weight = torch.nn.Parameter((1/self.window_size)*torch.ones([self.forcast_size, self.window_size]))\n",
    "        else:\n",
    "            self.Linear_Trend = torch.nn.Linear(self.window_size, self.forcast_size)\n",
    "            self.Linear_Trend.weight = torch.nn.Parameter((1/self.window_size)*torch.ones([self.forcast_size, self.window_size]))\n",
    "            self.Linear_Seasonal = torch.nn.Linear(self.window_size,  self.forcast_size)\n",
    "            self.Linear_Seasonal.weight = torch.nn.Parameter((1/self.window_size)*torch.ones([self.forcast_size, self.window_size]))\n",
    "\n",
    "    def forward(self, x):\n",
    "        trend_init, seasonal_init = self.decompsition(x)\n",
    "        trend_init, seasonal_init = trend_init.permute(0,2,1), seasonal_init.permute(0,2,1)\n",
    "        if self.individual:\n",
    "            trend_output = torch.zeros([trend_init.size(0), trend_init.size(1), self.forcast_size], dtype=trend_init.dtype).to(trend_init.device)\n",
    "            seasonal_output = torch.zeros([seasonal_init.size(0), seasonal_init.size(1), self.forcast_size], dtype=seasonal_init.dtype).to(seasonal_init.device)\n",
    "            for idx in range(self.channels):\n",
    "                trend_output[:, idx, :] = self.Linear_Trend[idx](trend_init[:, idx, :])\n",
    "                seasonal_output[:, idx, :] = self.Linear_Seasonal[idx](seasonal_init[:, idx, :])                \n",
    "        else:\n",
    "            trend_output = self.Linear_Trend(trend_init)\n",
    "            seasonal_output = self.Linear_Seasonal(seasonal_init)\n",
    "        x = seasonal_output + trend_output\n",
    "        return x.permute(0,2,1)"
   ]
  },
  {
   "cell_type": "code",
   "execution_count": 97,
   "metadata": {},
   "outputs": [
    {
     "data": {
      "text/plain": [
       "array([[1731.62],\n",
       "       [1745.05],\n",
       "       [1753.52],\n",
       "       ...,\n",
       "       [1497.25],\n",
       "       [1495.66],\n",
       "       [1495.21]], dtype=float32)"
      ]
     },
     "execution_count": 97,
     "metadata": {},
     "output_type": "execute_result"
    }
   ],
   "source": [
    "train_y"
   ]
  },
  {
   "cell_type": "code",
   "execution_count": 129,
   "metadata": {},
   "outputs": [
    {
     "name": "stderr",
     "output_type": "stream",
     "text": [
      "  4%|▍         | 2/50 [00:00<00:10,  4.68it/s]"
     ]
    },
    {
     "name": "stdout",
     "output_type": "stream",
     "text": [
      "valid_loss=1036.226, test_los365.195, Model Save\n",
      "epoch = 1, train_loss : 881.561, valid_loss : 1036.226, test_loss : 365.195\n",
      "valid_loss=574.222, test_los107.775, Model Save\n",
      "epoch = 2, train_loss : 432.225, valid_loss : 574.222, test_loss : 107.775\n"
     ]
    },
    {
     "name": "stderr",
     "output_type": "stream",
     "text": [
      "  8%|▊         | 4/50 [00:00<00:08,  5.48it/s]"
     ]
    },
    {
     "name": "stdout",
     "output_type": "stream",
     "text": [
      "valid_loss=272.311, test_los98.175, Model Save\n",
      "epoch = 3, train_loss : 234.318, valid_loss : 272.311, test_loss : 98.175\n",
      "valid_loss=193.611, test_los34.755, Model Save\n",
      "epoch = 4, train_loss : 149.448, valid_loss : 193.611, test_loss : 34.755\n"
     ]
    },
    {
     "name": "stderr",
     "output_type": "stream",
     "text": [
      " 12%|█▏        | 6/50 [00:01<00:07,  6.27it/s]"
     ]
    },
    {
     "name": "stdout",
     "output_type": "stream",
     "text": [
      "valid_loss=94.992, test_los17.321, Model Save\n",
      "epoch = 5, train_loss : 100.596, valid_loss : 94.992, test_loss : 17.321\n",
      "valid_loss=63.181, test_los12.747, Model Save\n",
      "epoch = 6, train_loss : 66.795, valid_loss : 63.181, test_loss : 12.747\n"
     ]
    },
    {
     "name": "stderr",
     "output_type": "stream",
     "text": [
      " 16%|█▌        | 8/50 [00:01<00:06,  6.50it/s]"
     ]
    },
    {
     "name": "stdout",
     "output_type": "stream",
     "text": [
      "valid_loss=44.212, test_los10.362, Model Save\n",
      "epoch = 7, train_loss : 59.471, valid_loss : 44.212, test_loss : 10.362\n",
      "epoch = 8, train_loss : 48.256, valid_loss : 48.506, test_loss : 33.967\n"
     ]
    },
    {
     "name": "stderr",
     "output_type": "stream",
     "text": [
      " 20%|██        | 10/50 [00:01<00:05,  6.78it/s]"
     ]
    },
    {
     "name": "stdout",
     "output_type": "stream",
     "text": [
      "valid_loss=27.408, test_los7.590, Model Save\n",
      "epoch = 9, train_loss : 50.711, valid_loss : 27.408, test_loss : 7.590\n",
      "epoch = 10, train_loss : 38.444, valid_loss : 44.985, test_loss : 37.227\n"
     ]
    },
    {
     "name": "stderr",
     "output_type": "stream",
     "text": [
      " 24%|██▍       | 12/50 [00:01<00:05,  6.44it/s]"
     ]
    },
    {
     "name": "stdout",
     "output_type": "stream",
     "text": [
      "valid_loss=23.732, test_los5.655, Model Save\n",
      "epoch = 11, train_loss : 33.394, valid_loss : 23.732, test_loss : 5.655\n",
      "valid_loss=18.811, test_los4.464, Model Save\n",
      "epoch = 12, train_loss : 34.902, valid_loss : 18.811, test_loss : 4.464\n"
     ]
    },
    {
     "name": "stderr",
     "output_type": "stream",
     "text": [
      " 28%|██▊       | 14/50 [00:02<00:05,  6.08it/s]"
     ]
    },
    {
     "name": "stdout",
     "output_type": "stream",
     "text": [
      "epoch = 13, train_loss : 27.817, valid_loss : 33.707, test_loss : 14.583\n",
      "valid_loss=15.016, test_los3.631, Model Save\n",
      "epoch = 14, train_loss : 28.429, valid_loss : 15.016, test_loss : 3.631\n"
     ]
    },
    {
     "name": "stderr",
     "output_type": "stream",
     "text": [
      " 32%|███▏      | 16/50 [00:02<00:05,  6.74it/s]"
     ]
    },
    {
     "name": "stdout",
     "output_type": "stream",
     "text": [
      "valid_loss=12.740, test_los4.940, Model Save\n",
      "epoch = 15, train_loss : 23.107, valid_loss : 12.740, test_loss : 4.940\n",
      "epoch = 16, train_loss : 21.190, valid_loss : 25.328, test_loss : 11.686\n"
     ]
    },
    {
     "name": "stderr",
     "output_type": "stream",
     "text": [
      " 36%|███▌      | 18/50 [00:02<00:04,  6.97it/s]"
     ]
    },
    {
     "name": "stdout",
     "output_type": "stream",
     "text": [
      "epoch = 17, train_loss : 20.783, valid_loss : 15.632, test_loss : 5.605\n",
      "epoch = 18, train_loss : 18.483, valid_loss : 17.517, test_loss : 7.541\n"
     ]
    },
    {
     "name": "stderr",
     "output_type": "stream",
     "text": [
      " 40%|████      | 20/50 [00:03<00:04,  6.72it/s]"
     ]
    },
    {
     "name": "stdout",
     "output_type": "stream",
     "text": [
      "valid_loss=10.727, test_los3.722, Model Save\n",
      "epoch = 19, train_loss : 16.416, valid_loss : 10.727, test_loss : 3.722\n",
      "valid_loss=10.271, test_los3.522, Model Save\n",
      "epoch = 20, train_loss : 17.875, valid_loss : 10.271, test_loss : 3.522\n"
     ]
    },
    {
     "name": "stderr",
     "output_type": "stream",
     "text": [
      " 44%|████▍     | 22/50 [00:03<00:04,  6.50it/s]"
     ]
    },
    {
     "name": "stdout",
     "output_type": "stream",
     "text": [
      "valid_loss=8.895, test_los2.966, Model Save\n",
      "epoch = 21, train_loss : 12.876, valid_loss : 8.895, test_loss : 2.966\n",
      "valid_loss=6.176, test_los1.871, Model Save\n",
      "epoch = 22, train_loss : 15.354, valid_loss : 6.176, test_loss : 1.871\n"
     ]
    },
    {
     "name": "stderr",
     "output_type": "stream",
     "text": [
      " 48%|████▊     | 24/50 [00:03<00:04,  6.02it/s]"
     ]
    },
    {
     "name": "stdout",
     "output_type": "stream",
     "text": [
      "epoch = 23, train_loss : 13.358, valid_loss : 7.034, test_loss : 2.236\n",
      "valid_loss=5.469, test_los1.621, Model Save\n",
      "epoch = 24, train_loss : 13.762, valid_loss : 5.469, test_loss : 1.621\n"
     ]
    },
    {
     "name": "stderr",
     "output_type": "stream",
     "text": [
      " 52%|█████▏    | 26/50 [00:04<00:03,  7.09it/s]"
     ]
    },
    {
     "name": "stdout",
     "output_type": "stream",
     "text": [
      "valid_loss=5.235, test_los2.291, Model Save\n",
      "epoch = 25, train_loss : 13.410, valid_loss : 5.235, test_loss : 2.291\n",
      "valid_loss=4.718, test_los1.708, Model Save\n",
      "epoch = 26, train_loss : 9.514, valid_loss : 4.718, test_loss : 1.708\n"
     ]
    },
    {
     "name": "stderr",
     "output_type": "stream",
     "text": [
      " 56%|█████▌    | 28/50 [00:04<00:02,  7.68it/s]"
     ]
    },
    {
     "name": "stdout",
     "output_type": "stream",
     "text": [
      "valid_loss=4.486, test_los1.486, Model Save\n",
      "epoch = 27, train_loss : 11.563, valid_loss : 4.486, test_loss : 1.486\n",
      "valid_loss=4.380, test_los1.445, Model Save\n",
      "epoch = 28, train_loss : 9.236, valid_loss : 4.380, test_loss : 1.445\n"
     ]
    },
    {
     "name": "stderr",
     "output_type": "stream",
     "text": [
      " 60%|██████    | 30/50 [00:04<00:02,  6.76it/s]"
     ]
    },
    {
     "name": "stdout",
     "output_type": "stream",
     "text": [
      "epoch = 29, train_loss : 11.593, valid_loss : 15.557, test_loss : 10.484\n",
      "epoch = 30, train_loss : 9.432, valid_loss : 20.758, test_loss : 19.521\n"
     ]
    },
    {
     "name": "stderr",
     "output_type": "stream",
     "text": [
      " 64%|██████▍   | 32/50 [00:04<00:02,  6.82it/s]"
     ]
    },
    {
     "name": "stdout",
     "output_type": "stream",
     "text": [
      "epoch = 31, train_loss : 22.831, valid_loss : 15.716, test_loss : 14.395\n",
      "epoch = 32, train_loss : 8.777, valid_loss : 4.702, test_loss : 2.079\n"
     ]
    },
    {
     "name": "stderr",
     "output_type": "stream",
     "text": [
      " 68%|██████▊   | 34/50 [00:05<00:02,  6.43it/s]"
     ]
    },
    {
     "name": "stdout",
     "output_type": "stream",
     "text": [
      "epoch = 33, train_loss : 8.279, valid_loss : 5.392, test_loss : 3.996\n",
      "epoch = 34, train_loss : 7.975, valid_loss : 6.541, test_loss : 3.740\n"
     ]
    },
    {
     "name": "stderr",
     "output_type": "stream",
     "text": [
      " 72%|███████▏  | 36/50 [00:05<00:02,  5.99it/s]"
     ]
    },
    {
     "name": "stdout",
     "output_type": "stream",
     "text": [
      "valid_loss=4.204, test_los2.262, Model Save\n",
      "epoch = 35, train_loss : 9.079, valid_loss : 4.204, test_loss : 2.262\n",
      "valid_loss=4.010, test_los1.624, Model Save\n",
      "epoch = 36, train_loss : 8.635, valid_loss : 4.010, test_loss : 1.624\n"
     ]
    },
    {
     "name": "stderr",
     "output_type": "stream",
     "text": [
      " 76%|███████▌  | 38/50 [00:05<00:01,  6.08it/s]"
     ]
    },
    {
     "name": "stdout",
     "output_type": "stream",
     "text": [
      "valid_loss=3.325, test_los1.465, Model Save\n",
      "epoch = 37, train_loss : 9.197, valid_loss : 3.325, test_loss : 1.465\n",
      "epoch = 38, train_loss : 9.511, valid_loss : 9.165, test_loss : 6.014\n"
     ]
    },
    {
     "name": "stderr",
     "output_type": "stream",
     "text": [
      " 78%|███████▊  | 39/50 [00:06<00:01,  6.00it/s]"
     ]
    },
    {
     "name": "stdout",
     "output_type": "stream",
     "text": [
      "epoch = 39, train_loss : 8.326, valid_loss : 7.778, test_loss : 6.574\n"
     ]
    },
    {
     "name": "stderr",
     "output_type": "stream",
     "text": [
      " 80%|████████  | 40/50 [00:06<00:01,  5.61it/s]"
     ]
    },
    {
     "name": "stdout",
     "output_type": "stream",
     "text": [
      "epoch = 40, train_loss : 7.544, valid_loss : 4.479, test_loss : 3.302\n"
     ]
    },
    {
     "name": "stderr",
     "output_type": "stream",
     "text": [
      " 84%|████████▍ | 42/50 [00:06<00:01,  5.17it/s]"
     ]
    },
    {
     "name": "stdout",
     "output_type": "stream",
     "text": [
      "epoch = 41, train_loss : 7.543, valid_loss : 6.953, test_loss : 4.489\n",
      "valid_loss=2.210, test_los0.900, Model Save\n",
      "epoch = 42, train_loss : 7.933, valid_loss : 2.210, test_loss : 0.900\n"
     ]
    },
    {
     "name": "stderr",
     "output_type": "stream",
     "text": [
      " 88%|████████▊ | 44/50 [00:06<00:00,  6.28it/s]"
     ]
    },
    {
     "name": "stdout",
     "output_type": "stream",
     "text": [
      "epoch = 43, train_loss : 8.520, valid_loss : 2.297, test_loss : 0.902\n",
      "valid_loss=2.083, test_los0.863, Model Save\n",
      "epoch = 44, train_loss : 9.767, valid_loss : 2.083, test_loss : 0.863\n"
     ]
    },
    {
     "name": "stderr",
     "output_type": "stream",
     "text": [
      " 92%|█████████▏| 46/50 [00:07<00:00,  6.84it/s]"
     ]
    },
    {
     "name": "stdout",
     "output_type": "stream",
     "text": [
      "epoch = 45, train_loss : 8.571, valid_loss : 3.871, test_loss : 2.393\n",
      "epoch = 46, train_loss : 9.005, valid_loss : 5.234, test_loss : 3.118\n"
     ]
    },
    {
     "name": "stderr",
     "output_type": "stream",
     "text": [
      " 96%|█████████▌| 48/50 [00:07<00:00,  7.19it/s]"
     ]
    },
    {
     "name": "stdout",
     "output_type": "stream",
     "text": [
      "epoch = 47, train_loss : 7.023, valid_loss : 15.314, test_loss : 14.131\n",
      "epoch = 48, train_loss : 5.752, valid_loss : 2.442, test_loss : 0.984\n"
     ]
    },
    {
     "name": "stderr",
     "output_type": "stream",
     "text": [
      "100%|██████████| 50/50 [00:07<00:00,  6.41it/s]"
     ]
    },
    {
     "name": "stdout",
     "output_type": "stream",
     "text": [
      "epoch = 49, train_loss : 6.674, valid_loss : 5.345, test_loss : 3.332\n",
      "epoch = 50, train_loss : 5.343, valid_loss : 3.376, test_loss : 1.716\n"
     ]
    },
    {
     "name": "stderr",
     "output_type": "stream",
     "text": [
      "\n"
     ]
    }
   ],
   "source": [
    "### 모델 학습 ###\n",
    "train_loss_list = []\n",
    "valid_loss_list = []\n",
    "test_loss_list = []\n",
    "epoch = 50\n",
    "lr = 0.001\n",
    "DLinear_model = LTSF_DLinear(\n",
    "                            window_size=window_size,\n",
    "                            forcast_size=forcast_size,\n",
    "                            kernel_size=25,\n",
    "                            individual=False,\n",
    "                            feature_size=1,\n",
    "                            )\n",
    "criterion = torch.nn.MSELoss()\n",
    "optimizer = torch.optim.Adam(DLinear_model.parameters(), lr=lr)\n",
    "max_loss = 999999999\n",
    "\n",
    "for epoch in tqdm(range(1, epoch+1)):\n",
    "    loss_list = []\n",
    "    DLinear_model.train()\n",
    "    for batch_idx, (data, target) in enumerate(train_dl):\n",
    "        optimizer.zero_grad()\n",
    "        output = DLinear_model(data)\n",
    "        loss = criterion(output, target.unsqueeze(-1))\n",
    "        loss.backward()\n",
    "        optimizer.step()\n",
    "        loss_list.append(loss.item())    \n",
    "    train_loss_list.append(np.mean(loss_list))\n",
    "\n",
    "    DLinear_model.eval()\n",
    "    with torch.no_grad():\n",
    "        for data, target in valid_dl:\n",
    "            output = DLinear_model(data)\n",
    "            valid_loss = criterion(output, target.unsqueeze(-1))\n",
    "            valid_loss_list.append(valid_loss)\n",
    "        \n",
    "        for data, target in test_dl:\n",
    "            output = DLinear_model(data)\n",
    "            test_loss = criterion(output, target.unsqueeze(-1))\n",
    "            test_loss_list.append(test_loss)\n",
    "\n",
    "    if valid_loss < max_loss:\n",
    "        torch.save(DLinear_model, 'DLinear_model.pth')\n",
    "        max_loss = valid_loss\n",
    "        print(\"valid_loss={:.3f}, test_los{:.3f}, Model Save\".format(valid_loss, test_loss))\n",
    "        dlinear_best_epoch = epoch\n",
    "        dlinear_best_train_loss = np.mean(loss_list)\n",
    "        dlinear_best_valid_loss = np.mean(valid_loss.item())\n",
    "        dlinear_best_test_loss = np.mean(test_loss.item())\n",
    "\n",
    "    print(\"epoch = {}, train_loss : {:.3f}, valid_loss : {:.3f}, test_loss : {:.3f}\".format(epoch, np.mean(loss_list), valid_loss, test_loss))"
   ]
  },
  {
   "cell_type": "code",
   "execution_count": 124,
   "metadata": {},
   "outputs": [
    {
     "name": "stderr",
     "output_type": "stream",
     "text": [
      "  4%|▍         | 2/50 [00:00<00:03, 12.12it/s]"
     ]
    },
    {
     "name": "stdout",
     "output_type": "stream",
     "text": [
      "valid_loss=8.679, test_los1.991, Model Save\n",
      "epoch = 1, train_loss : 259.305, valid_loss : 8.679, test_loss : 1.991\n",
      "valid_loss=6.517, test_los1.813, Model Save\n",
      "epoch = 2, train_loss : 7.219, valid_loss : 6.517, test_loss : 1.813\n",
      "valid_loss=5.182, test_los1.554, Model Save\n",
      "epoch = 3, train_loss : 6.290, valid_loss : 5.182, test_loss : 1.554\n"
     ]
    },
    {
     "name": "stderr",
     "output_type": "stream",
     "text": [
      " 12%|█▏        | 6/50 [00:00<00:03, 12.23it/s]"
     ]
    },
    {
     "name": "stdout",
     "output_type": "stream",
     "text": [
      "valid_loss=4.967, test_los1.153, Model Save\n",
      "epoch = 4, train_loss : 5.335, valid_loss : 4.967, test_loss : 1.153\n",
      "valid_loss=3.483, test_los1.034, Model Save\n",
      "epoch = 5, train_loss : 4.612, valid_loss : 3.483, test_loss : 1.034\n",
      "valid_loss=2.928, test_los0.908, Model Save\n",
      "epoch = 6, train_loss : 4.078, valid_loss : 2.928, test_loss : 0.908\n"
     ]
    },
    {
     "name": "stderr",
     "output_type": "stream",
     "text": [
      " 16%|█▌        | 8/50 [00:00<00:03, 12.21it/s]"
     ]
    },
    {
     "name": "stdout",
     "output_type": "stream",
     "text": [
      "valid_loss=2.359, test_los0.916, Model Save\n",
      "epoch = 7, train_loss : 3.699, valid_loss : 2.359, test_loss : 0.916\n",
      "epoch = 8, train_loss : 3.442, valid_loss : 2.481, test_loss : 0.763\n",
      "valid_loss=1.917, test_los0.808, Model Save\n",
      "epoch = 9, train_loss : 3.352, valid_loss : 1.917, test_loss : 0.808\n"
     ]
    },
    {
     "name": "stderr",
     "output_type": "stream",
     "text": [
      " 24%|██▍       | 12/50 [00:00<00:03, 11.96it/s]"
     ]
    },
    {
     "name": "stdout",
     "output_type": "stream",
     "text": [
      "valid_loss=1.893, test_los0.847, Model Save\n",
      "epoch = 10, train_loss : 3.206, valid_loss : 1.893, test_loss : 0.847\n",
      "valid_loss=1.830, test_los0.722, Model Save\n",
      "epoch = 11, train_loss : 3.231, valid_loss : 1.830, test_loss : 0.722\n",
      "valid_loss=1.757, test_los0.783, Model Save\n",
      "epoch = 12, train_loss : 3.191, valid_loss : 1.757, test_loss : 0.783\n"
     ]
    },
    {
     "name": "stderr",
     "output_type": "stream",
     "text": [
      " 28%|██▊       | 14/50 [00:01<00:02, 12.05it/s]"
     ]
    },
    {
     "name": "stdout",
     "output_type": "stream",
     "text": [
      "valid_loss=1.670, test_los0.766, Model Save\n",
      "epoch = 13, train_loss : 3.301, valid_loss : 1.670, test_loss : 0.766\n",
      "valid_loss=1.629, test_los0.719, Model Save\n",
      "epoch = 14, train_loss : 3.147, valid_loss : 1.629, test_loss : 0.719\n",
      "epoch = 15, train_loss : 3.077, valid_loss : 1.751, test_loss : 0.711\n"
     ]
    },
    {
     "name": "stderr",
     "output_type": "stream",
     "text": [
      " 36%|███▌      | 18/50 [00:01<00:02, 12.21it/s]"
     ]
    },
    {
     "name": "stdout",
     "output_type": "stream",
     "text": [
      "epoch = 16, train_loss : 3.141, valid_loss : 1.706, test_loss : 0.809\n",
      "epoch = 17, train_loss : 3.115, valid_loss : 1.769, test_loss : 0.733\n",
      "epoch = 18, train_loss : 3.126, valid_loss : 1.735, test_loss : 0.763\n"
     ]
    },
    {
     "name": "stderr",
     "output_type": "stream",
     "text": [
      " 40%|████      | 20/50 [00:01<00:02, 12.29it/s]"
     ]
    },
    {
     "name": "stdout",
     "output_type": "stream",
     "text": [
      "valid_loss=1.579, test_los0.754, Model Save\n",
      "epoch = 19, train_loss : 3.064, valid_loss : 1.579, test_loss : 0.754\n",
      "epoch = 20, train_loss : 3.126, valid_loss : 3.611, test_loss : 0.993\n",
      "valid_loss=1.560, test_los0.738, Model Save\n",
      "epoch = 21, train_loss : 3.234, valid_loss : 1.560, test_loss : 0.738\n"
     ]
    },
    {
     "name": "stderr",
     "output_type": "stream",
     "text": [
      " 48%|████▊     | 24/50 [00:01<00:02, 12.42it/s]"
     ]
    },
    {
     "name": "stdout",
     "output_type": "stream",
     "text": [
      "epoch = 22, train_loss : 2.977, valid_loss : 4.712, test_loss : 1.246\n",
      "epoch = 23, train_loss : 3.027, valid_loss : 1.625, test_loss : 0.679\n",
      "epoch = 24, train_loss : 3.282, valid_loss : 2.724, test_loss : 0.841\n"
     ]
    },
    {
     "name": "stderr",
     "output_type": "stream",
     "text": [
      " 52%|█████▏    | 26/50 [00:02<00:01, 12.24it/s]"
     ]
    },
    {
     "name": "stdout",
     "output_type": "stream",
     "text": [
      "epoch = 25, train_loss : 2.887, valid_loss : 2.516, test_loss : 0.903\n",
      "valid_loss=1.491, test_los0.711, Model Save\n",
      "epoch = 26, train_loss : 2.833, valid_loss : 1.491, test_loss : 0.711\n",
      "epoch = 27, train_loss : 3.081, valid_loss : 1.845, test_loss : 0.875\n"
     ]
    },
    {
     "name": "stderr",
     "output_type": "stream",
     "text": [
      " 60%|██████    | 30/50 [00:02<00:01, 12.40it/s]"
     ]
    },
    {
     "name": "stdout",
     "output_type": "stream",
     "text": [
      "epoch = 28, train_loss : 2.752, valid_loss : 1.690, test_loss : 0.690\n",
      "valid_loss=1.445, test_los0.697, Model Save\n",
      "epoch = 29, train_loss : 2.901, valid_loss : 1.445, test_loss : 0.697\n",
      "epoch = 30, train_loss : 2.858, valid_loss : 1.495, test_loss : 0.667\n"
     ]
    },
    {
     "name": "stderr",
     "output_type": "stream",
     "text": [
      " 64%|██████▍   | 32/50 [00:02<00:01, 12.42it/s]"
     ]
    },
    {
     "name": "stdout",
     "output_type": "stream",
     "text": [
      "epoch = 31, train_loss : 2.818, valid_loss : 1.487, test_loss : 0.690\n",
      "epoch = 32, train_loss : 2.796, valid_loss : 2.777, test_loss : 1.181\n",
      "epoch = 33, train_loss : 2.870, valid_loss : 1.532, test_loss : 0.658\n"
     ]
    },
    {
     "name": "stderr",
     "output_type": "stream",
     "text": [
      " 72%|███████▏  | 36/50 [00:02<00:01, 12.54it/s]"
     ]
    },
    {
     "name": "stdout",
     "output_type": "stream",
     "text": [
      "epoch = 34, train_loss : 2.872, valid_loss : 1.524, test_loss : 0.761\n",
      "epoch = 35, train_loss : 2.944, valid_loss : 1.765, test_loss : 0.686\n",
      "epoch = 36, train_loss : 2.687, valid_loss : 5.431, test_loss : 1.408\n"
     ]
    },
    {
     "name": "stderr",
     "output_type": "stream",
     "text": [
      " 76%|███████▌  | 38/50 [00:03<00:00, 12.24it/s]"
     ]
    },
    {
     "name": "stdout",
     "output_type": "stream",
     "text": [
      "epoch = 37, train_loss : 2.899, valid_loss : 1.707, test_loss : 0.840\n",
      "epoch = 38, train_loss : 2.830, valid_loss : 1.493, test_loss : 0.656\n",
      "epoch = 39, train_loss : 2.732, valid_loss : 1.563, test_loss : 0.713\n"
     ]
    },
    {
     "name": "stderr",
     "output_type": "stream",
     "text": [
      " 84%|████████▍ | 42/50 [00:03<00:00, 12.33it/s]"
     ]
    },
    {
     "name": "stdout",
     "output_type": "stream",
     "text": [
      "epoch = 40, train_loss : 2.950, valid_loss : 7.218, test_loss : 2.373\n",
      "epoch = 41, train_loss : 2.575, valid_loss : 1.985, test_loss : 0.942\n",
      "epoch = 42, train_loss : 2.701, valid_loss : 2.647, test_loss : 1.125\n"
     ]
    },
    {
     "name": "stderr",
     "output_type": "stream",
     "text": [
      " 88%|████████▊ | 44/50 [00:03<00:00, 12.38it/s]"
     ]
    },
    {
     "name": "stdout",
     "output_type": "stream",
     "text": [
      "valid_loss=1.357, test_los0.683, Model Save\n",
      "epoch = 43, train_loss : 2.675, valid_loss : 1.357, test_loss : 0.683\n",
      "epoch = 44, train_loss : 2.783, valid_loss : 1.865, test_loss : 0.755\n",
      "epoch = 45, train_loss : 2.652, valid_loss : 1.530, test_loss : 0.799\n"
     ]
    },
    {
     "name": "stderr",
     "output_type": "stream",
     "text": [
      " 96%|█████████▌| 48/50 [00:03<00:00, 12.48it/s]"
     ]
    },
    {
     "name": "stdout",
     "output_type": "stream",
     "text": [
      "epoch = 46, train_loss : 2.717, valid_loss : 1.451, test_loss : 0.739\n",
      "epoch = 47, train_loss : 2.809, valid_loss : 1.358, test_loss : 0.696\n",
      "epoch = 48, train_loss : 3.419, valid_loss : 4.031, test_loss : 1.140\n"
     ]
    },
    {
     "name": "stderr",
     "output_type": "stream",
     "text": [
      "100%|██████████| 50/50 [00:04<00:00, 12.31it/s]"
     ]
    },
    {
     "name": "stdout",
     "output_type": "stream",
     "text": [
      "epoch = 49, train_loss : 2.452, valid_loss : 2.153, test_loss : 0.758\n",
      "epoch = 50, train_loss : 2.548, valid_loss : 4.351, test_loss : 1.172\n"
     ]
    },
    {
     "name": "stderr",
     "output_type": "stream",
     "text": [
      "\n"
     ]
    }
   ],
   "source": [
    "from tqdm import tqdm\n",
    "\n",
    "train_loss_list = []\n",
    "valid_loss_list = []\n",
    "test_loss_list = []\n",
    "epoch = 50\n",
    "lr = 0.001\n",
    "NLinear_model = LTSF_NLinear(\n",
    "                            window_size=window_size,\n",
    "                            forcast_size=forcast_size,\n",
    "                            # kernel_size=25,\n",
    "                            individual=False,\n",
    "                            feature_size=1,\n",
    "                            )\n",
    "criterion = torch.nn.MSELoss()\n",
    "optimizer = torch.optim.Adam(NLinear_model.parameters(), lr=lr)\n",
    "max_loss = 999999999\n",
    "\n",
    "for epoch in tqdm(range(1, epoch+1)):\n",
    "    loss_list = []\n",
    "    NLinear_model.train()\n",
    "    for batch_idx, (data, target) in enumerate(train_dl):\n",
    "        optimizer.zero_grad()\n",
    "        output = NLinear_model(data)\n",
    "        loss = criterion(output, target.unsqueeze(-1))\n",
    "        loss.backward()\n",
    "        optimizer.step()\n",
    "        loss_list.append(loss.item())    \n",
    "    train_loss_list.append(np.mean(loss_list))\n",
    "\n",
    "    NLinear_model.eval()\n",
    "    with torch.no_grad():\n",
    "        for data, target in valid_dl:\n",
    "            output = NLinear_model(data)\n",
    "            valid_loss = criterion(output, target.unsqueeze(-1))\n",
    "            valid_loss_list.append(valid_loss)\n",
    "        \n",
    "        for data, target in test_dl:\n",
    "            output = NLinear_model(data)\n",
    "            test_loss = criterion(output, target.unsqueeze(-1))\n",
    "            test_loss_list.append(test_loss)\n",
    "\n",
    "    if valid_loss < max_loss:\n",
    "        torch.save(NLinear_model, 'NLinear_model.pth')\n",
    "        max_loss = valid_loss\n",
    "        print(\"valid_loss={:.3f}, test_los{:.3f}, Model Save\".format(valid_loss, test_loss))\n",
    "        nlinear_best_epoch = epoch\n",
    "        nlinear_best_train_loss = np.mean(loss_list)\n",
    "        nlinear_best_valid_loss = np.mean(valid_loss.item())\n",
    "        nlinear_best_test_loss = np.mean(test_loss.item())\n",
    "\n",
    "    print(\"epoch = {}, train_loss : {:.3f}, valid_loss : {:.3f}, test_loss : {:.3f}\".format(epoch, np.mean(loss_list), valid_loss, test_loss))"
   ]
  },
  {
   "cell_type": "code",
   "execution_count": 132,
   "metadata": {},
   "outputs": [],
   "source": [
    "dlst = []\n",
    "with torch.no_grad():\n",
    "    for data, target in test_dl:\n",
    "        output = DLinear_model(data)\n",
    "        dlst.append(output)"
   ]
  },
  {
   "cell_type": "code",
   "execution_count": 125,
   "metadata": {},
   "outputs": [],
   "source": [
    "nlst = []\n",
    "with torch.no_grad():\n",
    "    for data, target in test_dl:\n",
    "        output = NLinear_model(data)\n",
    "        nlst.append(output)"
   ]
  },
  {
   "cell_type": "code",
   "execution_count": 126,
   "metadata": {},
   "outputs": [],
   "source": [
    "loss_test = test_y.reshape(-1) - nlst[0].reshape(-1).tolist()"
   ]
  },
  {
   "cell_type": "code",
   "execution_count": 120,
   "metadata": {},
   "outputs": [
    {
     "data": {
      "text/plain": [
       "[<matplotlib.lines.Line2D at 0x194d26355d0>]"
      ]
     },
     "execution_count": 120,
     "metadata": {},
     "output_type": "execute_result"
    },
    {
     "data": {
      "image/png": "[encoded data removed]",
      "text/plain": [
       "<Figure size 640x480 with 1 Axes>"
      ]
     },
     "metadata": {},
     "output_type": "display_data"
    }
   ],
   "source": [
    "plt.plot(loss_test)"
   ]
  },
  {
   "cell_type": "code",
   "execution_count": 127,
   "metadata": {},
   "outputs": [
    {
     "data": {
      "text/plain": [
       "[<matplotlib.lines.Line2D at 0x194d30ce290>]"
      ]
     },
     "execution_count": 127,
     "metadata": {},
     "output_type": "execute_result"
    },
    {
     "data": {
      "image/png": "[encoded data removed]",
      "text/plain": [
       "<Figure size 640x480 with 1 Axes>"
      ]
     },
     "metadata": {},
     "output_type": "display_data"
    }
   ],
   "source": [
    "plt.plot(loss_test)\n"
   ]
  },
  {
   "cell_type": "code",
   "execution_count": 128,
   "metadata": {},
   "outputs": [
    {
     "data": {
      "image/png": "[encoded data removed]",
      "text/plain": [
       "<Figure size 640x480 with 2 Axes>"
      ]
     },
     "metadata": {},
     "output_type": "display_data"
    },
    {
     "data": {
      "image/png": "[encoded data removed]",
      "text/plain": [
       "<Figure size 640x480 with 2 Axes>"
      ]
     },
     "metadata": {},
     "output_type": "display_data"
    }
   ],
   "source": [
    "weights_list = {}\n",
    "weights_list['trend'] = DLinear_model.Linear_Trend.weight.detach().numpy()\n",
    "weights_list['seasonal'] = DLinear_model.Linear_Seasonal.weight.detach().numpy()\n",
    "\n",
    "for name, w in weights_list.items():    \n",
    "    fig, ax = plt.subplots()    \n",
    "    plt.title(name)\n",
    "    im = ax.imshow(w, cmap='plasma_r',)\n",
    "    fig.colorbar(im, pad=0.03)\n",
    "    plt.show()"
   ]
  },
  {
   "cell_type": "code",
   "execution_count": 123,
   "metadata": {},
   "outputs": [
    {
     "data": {
      "text/html": [
       "<div>\n",
       "<style scoped>\n",
       "    .dataframe tbody tr th:only-of-type {\n",
       "        vertical-align: middle;\n",
       "    }\n",
       "\n",
       "    .dataframe tbody tr th {\n",
       "        vertical-align: top;\n",
       "    }\n",
       "\n",
       "    .dataframe thead th {\n",
       "        text-align: right;\n",
       "    }\n",
       "</style>\n",
       "<table border=\"1\" class=\"dataframe\">\n",
       "  <thead>\n",
       "    <tr style=\"text-align: right;\">\n",
       "      <th></th>\n",
       "      <th>고급휘발유</th>\n",
       "      <th>보통휘발유</th>\n",
       "      <th>자동차용경유</th>\n",
       "      <th>실내등유</th>\n",
       "      <th>year</th>\n",
       "      <th>month</th>\n",
       "      <th>day</th>\n",
       "      <th>date</th>\n",
       "      <th>target</th>\n",
       "    </tr>\n",
       "  </thead>\n",
       "  <tbody>\n",
       "    <tr>\n",
       "      <th>5739</th>\n",
       "      <td>1862.82</td>\n",
       "      <td>1578.54</td>\n",
       "      <td>1493.91</td>\n",
       "      <td>1371.40</td>\n",
       "      <td>2024</td>\n",
       "      <td>1</td>\n",
       "      <td>1</td>\n",
       "      <td>2024-01-01</td>\n",
       "      <td>1493.91</td>\n",
       "    </tr>\n",
       "    <tr>\n",
       "      <th>5740</th>\n",
       "      <td>1862.40</td>\n",
       "      <td>1577.46</td>\n",
       "      <td>1492.73</td>\n",
       "      <td>1370.70</td>\n",
       "      <td>2024</td>\n",
       "      <td>1</td>\n",
       "      <td>2</td>\n",
       "      <td>2024-01-02</td>\n",
       "      <td>1492.73</td>\n",
       "    </tr>\n",
       "    <tr>\n",
       "      <th>5741</th>\n",
       "      <td>1861.02</td>\n",
       "      <td>1575.89</td>\n",
       "      <td>1490.43</td>\n",
       "      <td>1369.50</td>\n",
       "      <td>2024</td>\n",
       "      <td>1</td>\n",
       "      <td>3</td>\n",
       "      <td>2024-01-03</td>\n",
       "      <td>1490.43</td>\n",
       "    </tr>\n",
       "    <tr>\n",
       "      <th>5742</th>\n",
       "      <td>1859.51</td>\n",
       "      <td>1574.52</td>\n",
       "      <td>1488.53</td>\n",
       "      <td>1368.20</td>\n",
       "      <td>2024</td>\n",
       "      <td>1</td>\n",
       "      <td>4</td>\n",
       "      <td>2024-01-04</td>\n",
       "      <td>1488.53</td>\n",
       "    </tr>\n",
       "    <tr>\n",
       "      <th>5743</th>\n",
       "      <td>1858.96</td>\n",
       "      <td>1573.43</td>\n",
       "      <td>1487.12</td>\n",
       "      <td>1367.12</td>\n",
       "      <td>2024</td>\n",
       "      <td>1</td>\n",
       "      <td>5</td>\n",
       "      <td>2024-01-05</td>\n",
       "      <td>1487.12</td>\n",
       "    </tr>\n",
       "    <tr>\n",
       "      <th>...</th>\n",
       "      <td>...</td>\n",
       "      <td>...</td>\n",
       "      <td>...</td>\n",
       "      <td>...</td>\n",
       "      <td>...</td>\n",
       "      <td>...</td>\n",
       "      <td>...</td>\n",
       "      <td>...</td>\n",
       "      <td>...</td>\n",
       "    </tr>\n",
       "    <tr>\n",
       "      <th>5965</th>\n",
       "      <td>1943.97</td>\n",
       "      <td>1695.28</td>\n",
       "      <td>1533.09</td>\n",
       "      <td>1351.41</td>\n",
       "      <td>2024</td>\n",
       "      <td>8</td>\n",
       "      <td>14</td>\n",
       "      <td>2024-08-14</td>\n",
       "      <td>1533.09</td>\n",
       "    </tr>\n",
       "    <tr>\n",
       "      <th>5966</th>\n",
       "      <td>1943.15</td>\n",
       "      <td>1694.46</td>\n",
       "      <td>1532.19</td>\n",
       "      <td>1350.97</td>\n",
       "      <td>2024</td>\n",
       "      <td>8</td>\n",
       "      <td>15</td>\n",
       "      <td>2024-08-15</td>\n",
       "      <td>1532.19</td>\n",
       "    </tr>\n",
       "    <tr>\n",
       "      <th>5967</th>\n",
       "      <td>1943.09</td>\n",
       "      <td>1693.88</td>\n",
       "      <td>1531.77</td>\n",
       "      <td>1351.06</td>\n",
       "      <td>2024</td>\n",
       "      <td>8</td>\n",
       "      <td>16</td>\n",
       "      <td>2024-08-16</td>\n",
       "      <td>1531.77</td>\n",
       "    </tr>\n",
       "    <tr>\n",
       "      <th>5968</th>\n",
       "      <td>1939.98</td>\n",
       "      <td>1692.92</td>\n",
       "      <td>1530.64</td>\n",
       "      <td>1350.89</td>\n",
       "      <td>2024</td>\n",
       "      <td>8</td>\n",
       "      <td>17</td>\n",
       "      <td>2024-08-17</td>\n",
       "      <td>1530.64</td>\n",
       "    </tr>\n",
       "    <tr>\n",
       "      <th>5969</th>\n",
       "      <td>1939.83</td>\n",
       "      <td>1692.56</td>\n",
       "      <td>1530.03</td>\n",
       "      <td>1350.48</td>\n",
       "      <td>2024</td>\n",
       "      <td>8</td>\n",
       "      <td>18</td>\n",
       "      <td>2024-08-18</td>\n",
       "      <td>1530.03</td>\n",
       "    </tr>\n",
       "  </tbody>\n",
       "</table>\n",
       "<p>231 rows × 9 columns</p>\n",
       "</div>"
      ],
      "text/plain": [
       "        고급휘발유    보통휘발유   자동차용경유     실내등유  year  month  day       date   target\n",
       "5739  1862.82  1578.54  1493.91  1371.40  2024      1    1 2024-01-01  1493.91\n",
       "5740  1862.40  1577.46  1492.73  1370.70  2024      1    2 2024-01-02  1492.73\n",
       "5741  1861.02  1575.89  1490.43  1369.50  2024      1    3 2024-01-03  1490.43\n",
       "5742  1859.51  1574.52  1488.53  1368.20  2024      1    4 2024-01-04  1488.53\n",
       "5743  1858.96  1573.43  1487.12  1367.12  2024      1    5 2024-01-05  1487.12\n",
       "...       ...      ...      ...      ...   ...    ...  ...        ...      ...\n",
       "5965  1943.97  1695.28  1533.09  1351.41  2024      8   14 2024-08-14  1533.09\n",
       "5966  1943.15  1694.46  1532.19  1350.97  2024      8   15 2024-08-15  1532.19\n",
       "5967  1943.09  1693.88  1531.77  1351.06  2024      8   16 2024-08-16  1531.77\n",
       "5968  1939.98  1692.92  1530.64  1350.89  2024      8   17 2024-08-17  1530.64\n",
       "5969  1939.83  1692.56  1530.03  1350.48  2024      8   18 2024-08-18  1530.03\n",
       "\n",
       "[231 rows x 9 columns]"
      ]
     },
     "execution_count": 123,
     "metadata": {},
     "output_type": "execute_result"
    }
   ],
   "source": [
    "test"
   ]
  },
  {
   "cell_type": "code",
   "execution_count": null,
   "metadata": {},
   "outputs": [],
   "source": [
    "window_size = 72\n",
    "forcast_size= 24\n",
    "batch_size = 32\n",
    "targets = '전력사용량(kWh)'\n",
    "date = 'date_time'\n",
    "\n",
    "train_df_fe, test_df_fe, mean_, std_ = standardization(train_df, test_df, 'date_time', targets)\n",
    "train_x, train_y, train_date = time_slide_df(train_df_fe, window_size, forcast_size, date, targets)\n",
    "test_x, test_y, test_date = time_slide_df(test_df_fe, window_size, forcast_size, date, targets)\n",
    "\n",
    "train_ds = Data(train_x[:1000], train_y[:1000])\n",
    "valid_ds = Data(train_x[1000:], train_y[1000:])\n",
    "test_ds = Data(test_x, test_y)\n",
    "\n",
    "train_dl = DataLoader(train_ds, batch_size = batch_size, shuffle=True,)\n",
    "valid_dl = DataLoader(valid_ds, batch_size = train_x[1000:].shape[0], shuffle=False)\n",
    "test_dl  = DataLoader(test_ds,  batch_size = test_x.shape[0], shuffle=False)\n"
   ]
  }
 ],
 "metadata": {
  "kernelspec": {
   "display_name": "gibo",
   "language": "python",
   "name": "python3"
  },
  "language_info": {
   "codemirror_mode": {
    "name": "ipython",
    "version": 3
   },
   "file_extension": ".py",
   "mimetype": "text/x-python",
   "name": "python",
   "nbconvert_exporter": "python",
   "pygments_lexer": "ipython3",
   "version": "3.10.14"
  }
 },
 "nbformat": 4,
 "nbformat_minor": 2
}
